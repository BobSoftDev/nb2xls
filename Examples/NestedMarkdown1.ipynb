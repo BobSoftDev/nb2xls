{
 "cells": [
  {
   "cell_type": "markdown",
   "metadata": {},
   "source": [
    "# More markdown\n",
    "\n",
    "## Here is an ordered list\n",
    "\n",
    "An ordered list example:\n",
    "\n",
    "1. Here is *one*\n",
    "  1. Sub __one__\n",
    "  1. Sub _Two_ end\n",
    "2. Here is two\n",
    "3. Here is three\n"
   ]
  },
  {
   "cell_type": "markdown",
   "metadata": {},
   "source": [
    "- [9.2.4 - Example: Top level](#8nowhere)\n",
    "    - Here is [example sub item link](#Shrinkage)\n",
    "    - Another sub item\n",
    "- [9.5.1 - Example: List link](#9nowhere)   "
   ]
  },
  {
   "cell_type": "code",
   "execution_count": null,
   "metadata": {},
   "outputs": [],
   "source": []
  }
 ],
 "metadata": {
  "hide_input": false,
  "kernelspec": {
   "display_name": "Python 3",
   "language": "python",
   "name": "python3"
  },
  "language_info": {
   "codemirror_mode": {
    "name": "ipython",
    "version": 3
   },
   "file_extension": ".py",
   "mimetype": "text/x-python",
   "name": "python",
   "nbconvert_exporter": "python",
   "pygments_lexer": "ipython3",
   "version": "3.7.3"
  }
 },
 "nbformat": 4,
 "nbformat_minor": 1
}
