{
 "cells": [
  {
   "cell_type": "markdown",
   "metadata": {},
   "source": [
    "## Chapter 12 - Bayesian Approaches to Testing a Point (\"Null\") Hypothesis"
   ]
  },
  {
   "cell_type": "markdown",
   "metadata": {},
   "source": [
    "- [12.2.2 - Are different groups equal or not?](#12.2.2---Are-different-groups-equal-or-not?)"
   ]
  },
  {
   "cell_type": "markdown",
   "metadata": {},
   "source": [
    "Here is `codespan example` inline not in a list"
   ]
  },
  {
   "cell_type": "markdown",
   "metadata": {},
   "source": [
    "#### Data\n",
    "Using *R*, I executed lines 18-63 from the script `OneOddGroupModelComp2E.R` to generate the exact same data used in the book. The script can be downloaded from the book's website. After executing the lines, the List object `dataList` in *R* contains five elements:\n",
    " 1. `nCond`: A scalar value (4) representing the number of conditions (background music types).\n",
    " 2. `nSubj`: A scalar value (80) representing the number of subjects.\n",
    " 3. `CondOfSubj`: A vector representing the condition (1, 2, 3 or 4) of a subject during a test.\n",
    " 4. `nTrlOfSubj`: A vector with the number of trials/words per subject (20 for all subjects).\n",
    " 5. `nCorrOfSubj`: A vector with number of correct recalls per subject.\n",
    " \n",
    "I exported the last three elements of `dataList` to a csv file using the following command in *R*:   \n",
    "`write.csv(data.frame(dataList[c(3:5)]), file='background_music.csv', row.names=FALSE)`"
   ]
  },
  {
   "cell_type": "markdown",
   "metadata": {},
   "source": [
    "Note: in contrast to the *R* output in the book, the parameters in PyMC3 (like $\\omega$ and model index) are indexed starting with 0.\n",
    "\n",
    "\n",
    "Model 0 = condition specific $\\omega_c$   \n",
    "Model 1 = same $\\omega$ for all conditions"
   ]
  }
 ],
 "metadata": {
  "hide_input": false,
  "kernelspec": {
   "display_name": "Python 3",
   "language": "python",
   "name": "python3"
  },
  "language_info": {
   "codemirror_mode": {
    "name": "ipython",
    "version": 3
   },
   "file_extension": ".py",
   "mimetype": "text/x-python",
   "name": "python",
   "nbconvert_exporter": "python",
   "pygments_lexer": "ipython3",
   "version": "3.7.3"
  }
 },
 "nbformat": 4,
 "nbformat_minor": 1
}
